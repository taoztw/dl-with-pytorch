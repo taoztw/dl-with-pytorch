{
 "cells": [
  {
   "cell_type": "markdown",
   "metadata": {},
   "source": [
    "what I cannot create,I do not understand."
   ]
  },
  {
   "cell_type": "markdown",
   "metadata": {},
   "source": [
    "## 生成和判别式模型"
   ]
  },
  {
   "cell_type": "markdown",
   "metadata": {},
   "source": [
    "**判别模型**\n",
    "\n",
    "判别式模型，即Discriminative Model，又被称为条件概率模型，它估计的是条件概率分布(conditional distribution)， p(class|context) 。\n",
    "\n",
    "\n",
    "举个例子，我们给定(x,y)对，4个样本。(1,0), (1,0), (2,0), (2, 1)，p(y|x)是事件x发生时y的条件概率，它的计算如下：\n",
    "\n",
    "![1](./photo/table1.jpg)\n",
    "\n",
    "**生成式模型**\n",
    "\n",
    "即Generative Model ，生成式模型 ，它估计的是联合概率分布（joint probability distribution），p(class, context)=p(class|context)*p(context) 。p(x,y)，即事件x与事件y同时发生的概率。同样以上面的样本为例，它的计算如下：\n",
    "\n",
    "![2](./photo/table2.jpg)\n",
    "\n",
    "\n",
    "**常见模型**\n",
    "\n",
    "常见的判别式模型有Logistic Regression，Linear Regression，SVM，Traditional Neural Networks\n",
    "\n",
    "Nearest Neighbor，CRF等。\n",
    "常见的生成式模型有Naive Bayes，Mixtures of Gaussians， HMMs，Markov Random Fields等。\n",
    "\n",
    "**比较**\n",
    "\n",
    "判别式模型 ，优点是分类边界灵活 ，学习简单，性能较好 ；缺点是不能得到概率分布 。\n",
    "生成式模型 ，优点是收敛速度快，可学习分布，可应对隐变量 ；缺点是学习复杂 ，分类性能较差。\n",
    "\n",
    "![2](./photo/table3.jpg)"
   ]
  },
  {
   "cell_type": "markdown",
   "metadata": {},
   "source": [
    "用神经网络去逼近　$P(x)$"
   ]
  },
  {
   "cell_type": "markdown",
   "metadata": {},
   "source": [
    "GAN经典网络结构\n",
    "![GAN](./photo/GAN1.png)\n",
    "\n",
    "优化目标与求解\n",
    "![GAN](./photo/GAN2.png)\n",
    "![GAN](./photo/VGD.png)\n",
    "\n",
    "---\n",
    "\n",
    "当生成器Ｇ固定，对V(D,G)求导，求出最优判别器$D^*(x)$,带入得出，生成器的目标函数等价于p_data,p_g的JS散度. 所以我们知道，真正在指导生成器进行训练的是隐式定义的分布和数据集真实分布的JS散度。当两个分布完全重合时，生成器的目标函数值达到最小$-lg4$,且此时的判别器也为最优，对于任意输入，均给出$D(x)=0.5$,理论上可以证明，只要有足够的精度，模型一定能收敛到最优解。\n",
    "![GAN](./photo/GAN4.png)\n",
    "\n",
    "![GAN](./photo/GAN5.png)\n",
    "\n",
    "![GAN](./photo/GAN6.png)\n",
    "\n",
    "![GAN](./photo/G.png)"
   ]
  },
  {
   "cell_type": "markdown",
   "metadata": {},
   "source": [
    "**训练过程**\n",
    "\n",
    "![](./photo/suanfa.jpg)"
   ]
  },
  {
   "cell_type": "markdown",
   "metadata": {},
   "source": [
    "![GAN](./photo/GAN7.png)\n",
    "![GAN](./photo/GAN8.png)"
   ]
  }
 ],
 "metadata": {
  "kernelspec": {
   "display_name": "Python 3",
   "language": "python",
   "name": "python3"
  },
  "language_info": {
   "codemirror_mode": {
    "name": "ipython",
    "version": 3
   },
   "file_extension": ".py",
   "mimetype": "text/x-python",
   "name": "python",
   "nbconvert_exporter": "python",
   "pygments_lexer": "ipython3",
   "version": "3.6.8"
  }
 },
 "nbformat": 4,
 "nbformat_minor": 2
}
