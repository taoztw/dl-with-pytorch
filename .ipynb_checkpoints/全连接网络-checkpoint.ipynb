{
 "cells": [
  {
   "cell_type": "code",
   "execution_count": 1,
   "metadata": {},
   "outputs": [],
   "source": [
    "import torch\n",
    "import torch.nn.functional as F\n",
    "import numpy as np\n",
    "from matplotlib import pyplot as plt\n",
    "from mpl_toolkits.mplot3d import Axes3D"
   ]
  },
  {
   "cell_type": "markdown",
   "metadata": {},
   "source": [
    "### loss\n",
    "Mean Squared Error:\n",
    "    \n",
    "$$loss=\\sum[y-(xw+b)]^2$$\n",
    "\n",
    "\n",
    "$$\\frac{\\partial loss}{\\partial \\theta} = 2 \\sum[f_\\theta(x)-y] \\frac{\\partial f_\\theta \\left(x \\right )}{\\partial \\theta} $$\n",
    "\n"
   ]
  },
  {
   "cell_type": "markdown",
   "metadata": {},
   "source": [
    "### Gradient API"
   ]
  },
  {
   "cell_type": "markdown",
   "metadata": {},
   "source": [
    "#### torch.autograd.grad(loss,[w1,w2...])\n",
    "[w1 grad, w2 grad ...]"
   ]
  },
  {
   "cell_type": "code",
   "execution_count": 2,
   "metadata": {},
   "outputs": [
    {
     "data": {
      "text/plain": [
       "(tensor([2.]),)"
      ]
     },
     "execution_count": 2,
     "metadata": {},
     "output_type": "execute_result"
    }
   ],
   "source": [
    "# y_pred = xw\n",
    "# x=1 w=2 y=1\n",
    "x = torch.ones(1)\n",
    "w = torch.full([1],2) # tensor([2.])\n",
    "mse = F.mse_loss(x*w, torch.ones(1))  # tensor(1.)\n",
    "\n",
    "# torch.autograd.grad(mse,[w])\n",
    "\n",
    "w.requires_grad_() # tensor([2.], requires_grad=True)\n",
    "\n",
    "mse = F.mse_loss(x*w, torch.ones(1))\n",
    "\n",
    "# 2(1-2)\n",
    "torch.autograd.grad(mse, [w])"
   ]
  },
  {
   "cell_type": "markdown",
   "metadata": {},
   "source": [
    "#### loss.backward()\n",
    "w1.grad\n",
    "w2.grad"
   ]
  },
  {
   "cell_type": "code",
   "execution_count": 3,
   "metadata": {},
   "outputs": [
    {
     "data": {
      "text/plain": [
       "tensor([2.])"
      ]
     },
     "execution_count": 3,
     "metadata": {},
     "output_type": "execute_result"
    }
   ],
   "source": [
    "x = torch.ones(1)\n",
    "w = torch.full([1],2,requires_grad=True) # tensor([2.])\n",
    "mse = F.mse_loss(x*w, torch.ones(1))  # tensor(1.)\n",
    "mse.backward()\n",
    "w.grad\n",
    "# w.grad.norm()"
   ]
  },
  {
   "cell_type": "markdown",
   "metadata": {},
   "source": [
    "> softmax (soft version of max)\n",
    "\n",
    "> $$S(y_i)=\\frac{e^{y_i}}{\\sum{e^{y_j}}}$$\n",
    "\n",
    "> 适用于多分类问题，将输入转化为PROVABILITIES。\n",
    "\n",
    "> 输入[2,1,0.1] -> [0.7,0.2,0.1] 2=1*2 0.7=0.2*3.5 具有优势的类别的概率会被放大\n",
    "\n",
    "> ![derivativei=j](./photo/softmax1.png)\n",
    "\n",
    "> ![softmax2](./photo/softmax2.png)\n",
    "\n",
    "> ![softmax](./photo/softmax.png)"
   ]
  },
  {
   "cell_type": "code",
   "execution_count": 18,
   "metadata": {},
   "outputs": [
    {
     "data": {
      "text/plain": [
       "tensor([0.3333, 0.1632, 0.3189], requires_grad=True)"
      ]
     },
     "execution_count": 18,
     "metadata": {},
     "output_type": "execute_result"
    }
   ],
   "source": [
    "a=torch.rand(3,requires_grad=True)\n",
    "a"
   ]
  },
  {
   "cell_type": "code",
   "execution_count": 23,
   "metadata": {},
   "outputs": [
    {
     "name": "stdout",
     "output_type": "stream",
     "text": [
      "torch.Size([3])\n"
     ]
    },
    {
     "data": {
      "text/plain": [
       "(tensor([-0.1054,  0.2093, -0.1039]),)"
      ]
     },
     "execution_count": 23,
     "metadata": {},
     "output_type": "execute_result"
    }
   ],
   "source": [
    "# p1 对a求导。 相对应的为正(第二个)，第一个和第三个为负\n",
    "p=F.softmax(a,dim=0)\n",
    "print(p.shape)\n",
    "torch.autograd.grad(p[1],[a],retain_graph=True)"
   ]
  },
  {
   "cell_type": "markdown",
   "metadata": {},
   "source": [
    "#### 单输出感知机 Perceptron"
   ]
  },
  {
   "cell_type": "markdown",
   "metadata": {},
   "source": [
    "![one-outputPerceptron](./photo/one_output.png)"
   ]
  },
  {
   "cell_type": "code",
   "execution_count": 24,
   "metadata": {},
   "outputs": [
    {
     "data": {
      "text/plain": [
       "tensor([[-0.0013, -0.0308, -0.0485, -0.0194, -0.0345, -0.0135, -0.0143, -0.0058,\n",
       "         -0.0152, -0.0173]])"
      ]
     },
     "execution_count": 24,
     "metadata": {},
     "output_type": "execute_result"
    }
   ],
   "source": [
    "x = torch.rand(1,10)\n",
    "w = torch.rand(1,10,requires_grad=True)\n",
    "\n",
    "o = torch.sigmoid(x@w.t())\n",
    "\n",
    "loss = F.mse_loss(torch.ones(1,1),o)\n",
    "\n",
    "loss.backward()\n",
    "\n",
    "w.grad"
   ]
  },
  {
   "cell_type": "markdown",
   "metadata": {},
   "source": [
    "#### 多输出感知机梯度"
   ]
  },
  {
   "cell_type": "markdown",
   "metadata": {},
   "source": [
    "![multi-outputPerceptron](./photo/multi_output.png)"
   ]
  },
  {
   "cell_type": "code",
   "execution_count": 28,
   "metadata": {},
   "outputs": [
    {
     "name": "stdout",
     "output_type": "stream",
     "text": [
      "torch.Size([])\n"
     ]
    },
    {
     "data": {
      "text/plain": [
       "tensor([[-0.0061, -0.0071, -0.0031, -0.0024, -0.0041, -0.0027, -0.0070, -0.0094,\n",
       "         -0.0059, -0.0096],\n",
       "        [-0.0003, -0.0004, -0.0002, -0.0001, -0.0002, -0.0001, -0.0004, -0.0005,\n",
       "         -0.0003, -0.0005]])"
      ]
     },
     "execution_count": 28,
     "metadata": {},
     "output_type": "execute_result"
    }
   ],
   "source": [
    "x = torch.rand(1,10)\n",
    "w = torch.rand(2,10,requires_grad=True)\n",
    "\n",
    "o = torch.sigmoid(x@w.t())\n",
    "\n",
    "loss = F.mse_loss(torch.ones(1,2),o)\n",
    "print(loss.shape)\n",
    "loss.backward()\n",
    "\n",
    "w.grad"
   ]
  },
  {
   "cell_type": "markdown",
   "metadata": {},
   "source": [
    "#### 链式法则"
   ]
  },
  {
   "cell_type": "code",
   "execution_count": 45,
   "metadata": {},
   "outputs": [
    {
     "data": {
      "text/plain": [
       "tensor(True)"
      ]
     },
     "execution_count": 45,
     "metadata": {},
     "output_type": "execute_result"
    }
   ],
   "source": [
    "x = torch.tensor(1.)\n",
    "w1 = torch.tensor(2.,requires_grad=True)\n",
    "b1 = torch.tensor(1.)\n",
    "w2 = torch.tensor(2.,requires_grad=True)\n",
    "b2 = torch.tensor(1.)\n",
    "\n",
    "y1 = x*w1 + b1\n",
    "y2 = y1*w2 + b2\n",
    "\n",
    "dy2_dy1 = torch.autograd.grad(y2,[y1],retain_graph=True)[0]\n",
    "dy1_dw1 = torch.autograd.grad(y1,[w1],retain_graph=True)[0]\n",
    "\n",
    "dy2_dw1 = torch.autograd.grad(y2,[w1],retain_graph=True)[0]\n",
    "\n",
    "dy2_dw1 == dy1_dw1*dy2_dy1"
   ]
  },
  {
   "cell_type": "markdown",
   "metadata": {},
   "source": [
    "#### 优化问题实战 梯度下降"
   ]
  },
  {
   "cell_type": "code",
   "execution_count": 18,
   "metadata": {},
   "outputs": [
    {
     "name": "stdout",
     "output_type": "stream",
     "text": [
      "x,y range:  (120,) (120,)\n",
      "X,Y maps:  (120, 120) (120, 120)\n"
     ]
    },
    {
     "data": {
      "image/png": "[encoded data removed]",
      "text/plain": [
       "<Figure size 432x288 with 1 Axes>"
      ]
     },
     "metadata": {
      "needs_background": "light"
     },
     "output_type": "display_data"
    },
    {
     "name": "stdout",
     "output_type": "stream",
     "text": [
      "step 0: x = [0.0009999999310821295, 0.0009999999310821295], f(x) = 170.0\n",
      "step 2000: x = [2.3331806659698486, 1.9540694952011108], f(x) = 13.730916023254395\n",
      "step 4000: x = [2.9820079803466797, 2.0270984172821045], f(x) = 0.014858869835734367\n",
      "step 6000: x = [2.999983549118042, 2.0000221729278564], f(x) = 1.1074007488787174e-08\n",
      "step 8000: x = [2.9999938011169434, 2.0000083446502686], f(x) = 1.5572823031106964e-09\n",
      "step 10000: x = [2.999997854232788, 2.000002861022949], f(x) = 1.8189894035458565e-10\n",
      "step 12000: x = [2.9999992847442627, 2.0000009536743164], f(x) = 1.6370904631912708e-11\n",
      "step 14000: x = [2.999999761581421, 2.000000238418579], f(x) = 1.8189894035458565e-12\n",
      "step 16000: x = [3.0, 2.0], f(x) = 0.0\n",
      "step 18000: x = [3.0, 2.0], f(x) = 0.0\n",
      "type of pred: <class 'torch.Tensor'>\n",
      "type of x:  <class 'torch.Tensor'>\n",
      "tensor([3., 2.], requires_grad=True)\n",
      "tensor(0., grad_fn=<AddBackward0>)\n"
     ]
    }
   ],
   "source": [
    "def himmelblau(x):\n",
    "    return (x[0] ** 2 + x[1] -11) ** 2 + (x[0] + x[1] ** 2 - 7) ** 2\n",
    "\n",
    "x = np.arange(-6,6,0.1)\n",
    "y = np.arange(-6,6,0.1)\n",
    "print('x,y range: ',x.shape,y.shape)\n",
    "X,Y = np.meshgrid(x,y)\n",
    "print('X,Y maps: ',X.shape,Y.shape)\n",
    "Z = himmelblau([X,Y])\n",
    "\n",
    "fig = plt.figure('himmelblau')\n",
    "ax = fig.gca(projection='3d')\n",
    "ax.plot_surface(X,Y,Z)\n",
    "ax.view_init(50,-30)\n",
    "# ax.view_init(elev=elev,azim=azim)#改变绘制图像的视角,即相机的位置,azim沿着z轴旋转，elev沿着y轴\n",
    "ax.set_xlabel('x')\n",
    "ax.set_ylabel('y')\n",
    "plt.show()\n",
    "\n",
    "x = torch.tensor([0.,0.], requires_grad=True)\n",
    "optimizer = torch.optim.Adam([x],lr=1e-3)\n",
    "for step in range(20000):\n",
    "    \n",
    "    pred = himmelblau(x)\n",
    "    optimizer.zero_grad()\n",
    "    pred.backward()\n",
    "    optimizer.step()\n",
    "    \n",
    "    # item()只适用tensor包含一个元素值的时候，将tensor转化为python纯数值\n",
    "    # tolist() 多个元素的tensor转化为python list\n",
    "    if step % 2000 == 0:\n",
    "        print('step {}: x = {}, f(x) = {}'\n",
    "             .format(step,x.tolist(),pred.item()))\n",
    "    \n",
    "print('type of pred:',type(pred))\n",
    "print('type of x: ',type(x))\n",
    "print(x)\n",
    "print(pred)"
   ]
  },
  {
   "cell_type": "markdown",
   "metadata": {},
   "source": [
    "#### 熵越大越稳定"
   ]
  },
  {
   "cell_type": "code",
   "execution_count": 23,
   "metadata": {},
   "outputs": [
    {
     "data": {
      "text/plain": [
       "tensor(0.0313)"
      ]
     },
     "execution_count": 23,
     "metadata": {},
     "output_type": "execute_result"
    }
   ],
   "source": [
    "# 熵 ： -plog_2(p)\n",
    "a = torch.full([4],1/4.)\n",
    "\n",
    "-(a * torch.log2(a)).sum() # tensor(2.)\n",
    "\n",
    "a = torch.tensor([0.1,0.1,0.1,0.7]) # tensor(1.3568)\n",
    "-(a * torch.log2(a)).sum()\n",
    "\n",
    "a = torch.tensor([0.001,0.001,0.001,0.999]) # tensor(0.0313)\n",
    "-(a * torch.log2(a)).sum()"
   ]
  },
  {
   "cell_type": "markdown",
   "metadata": {},
   "source": [
    "![crossEntropy](./photo/crossEntropy.png)\n",
    "\n",
    "softmax和cross entropy层分开会出现数据不稳定情况。\n",
    "\n",
    "![softmax_crossEntropy](./photo/softmax_cross.png)"
   ]
  },
  {
   "cell_type": "markdown",
   "metadata": {},
   "source": [
    "#### numerical stability"
   ]
  },
  {
   "cell_type": "code",
   "execution_count": 34,
   "metadata": {},
   "outputs": [
    {
     "name": "stdout",
     "output_type": "stream",
     "text": [
      "shape of logits:  torch.Size([1, 10])\n",
      "shape of pred: torch.Size([1, 10]),\n",
      "pred_after softmax: tensor([[4.5430e-16, 1.3342e-33, 9.1295e-16, 4.4121e-20, 4.0080e-39, 2.9548e-02,\n",
      "         5.9255e-36, 1.5178e-10, 2.7544e-23, 9.7045e-01]])\n",
      "tensor(44.5673)\n",
      "tensor(44.5673)\n"
     ]
    }
   ],
   "source": [
    "x = torch.randn(1,784)\n",
    "w = torch.randn(10,784)\n",
    "\n",
    "logits=x@w.t()\n",
    "print('shape of logits: ',logits.shape)\n",
    "\n",
    "pred = F.softmax(logits, dim=1)\n",
    "print('shape of pred: {},\\npred_after softmax: {}'.format(pred.shape,pred))\n",
    "\n",
    "pred_log = torch.log(pred)\n",
    "\n",
    "print(F.cross_entropy(logits,torch.tensor([3]))) # tensor(0.0780)\n",
    "print(F.nll_loss(pred_log,torch.tensor([3]))) # tensor(65.0113)"
   ]
  },
  {
   "cell_type": "markdown",
   "metadata": {},
   "source": [
    "#### Network Architecture"
   ]
  },
  {
   "cell_type": "markdown",
   "metadata": {},
   "source": [
    "![networdArchitecture](./photo/network_arch.png)"
   ]
  },
  {
   "cell_type": "code",
   "execution_count": 10,
   "metadata": {},
   "outputs": [],
   "source": [
    "#数据集下载\n",
    "# http://yann.lecun.com/exdb/mnist/\n",
    "from torchvision import datasets\n",
    "import torchvision.transforms as transforms\n",
    "batch_size=200\n",
    "learning_rate=0.01\n",
    "epochs=10\n",
    "\n",
    "train_loader = torch.utils.data.DataLoader(\n",
    "    datasets.MNIST('./data',train=True,\n",
    "                  transform=transforms.Compose([\n",
    "                  transforms.ToTensor(),\n",
    "                  transforms.Normalize((0.1307,),(0.3081,))\n",
    "                  ])),batch_size=batch_size,shuffle=True)\n",
    "\n",
    "test_loader = torch.utils.data.DataLoader(\n",
    "    datasets.MNIST('./data',train=False,transform=transforms.Compose([\n",
    "        transforms.ToTensor(),\n",
    "        transforms.Normalize((0.1307,),(0.3081,))\n",
    "    ])),batch_size=batch_size,shuffle=True)"
   ]
  },
  {
   "cell_type": "code",
   "execution_count": 28,
   "metadata": {},
   "outputs": [
    {
     "name": "stdout",
     "output_type": "stream",
     "text": [
      "tensor([[-0.4242, -0.4242, -0.4242,  ..., -0.4242, -0.4242, -0.4242],\n",
      "        [-0.4242, -0.4242, -0.4242,  ..., -0.4242, -0.4242, -0.4242],\n",
      "        [-0.4242, -0.4242, -0.4242,  ..., -0.4242, -0.4242, -0.4242],\n",
      "        ...,\n",
      "        [-0.4242, -0.4242, -0.4242,  ..., -0.4242, -0.4242, -0.4242],\n",
      "        [-0.4242, -0.4242, -0.4242,  ..., -0.4242, -0.4242, -0.4242],\n",
      "        [-0.4242, -0.4242, -0.4242,  ..., -0.4242, -0.4242, -0.4242]])\n"
     ]
    }
   ],
   "source": [
    "for batch_idx,(data, target) in enumerate(train_loader):\n",
    "    data = data.view(-1,28*28)\n",
    "    if batch_idx>1:\n",
    "        print(data)\n",
    "        break"
   ]
  },
  {
   "cell_type": "code",
   "execution_count": 5,
   "metadata": {},
   "outputs": [
    {
     "name": "stdout",
     "output_type": "stream",
     "text": [
      "Train Epoch: 0 [0/60000 (0%)]\tLoss:3.666276\n",
      "Train Epoch: 0 [20000/60000 (33%)]\tLoss:0.732064\n",
      "Train Epoch: 0 [40000/60000 (67%)]\tLoss:0.660332\n",
      "Train Epoch: 1 [0/60000 (0%)]\tLoss:0.593860\n",
      "Train Epoch: 1 [20000/60000 (33%)]\tLoss:0.513246\n",
      "Train Epoch: 1 [40000/60000 (67%)]\tLoss:0.606892\n",
      "Train Epoch: 2 [0/60000 (0%)]\tLoss:0.467232\n",
      "Train Epoch: 2 [20000/60000 (33%)]\tLoss:0.593296\n",
      "Train Epoch: 2 [40000/60000 (67%)]\tLoss:0.448865\n",
      "Train Epoch: 3 [0/60000 (0%)]\tLoss:0.401008\n",
      "Train Epoch: 3 [20000/60000 (33%)]\tLoss:0.387399\n",
      "Train Epoch: 3 [40000/60000 (67%)]\tLoss:0.470612\n",
      "Train Epoch: 4 [0/60000 (0%)]\tLoss:0.421968\n",
      "Train Epoch: 4 [20000/60000 (33%)]\tLoss:0.432721\n",
      "Train Epoch: 4 [40000/60000 (67%)]\tLoss:0.406733\n",
      "Train Epoch: 5 [0/60000 (0%)]\tLoss:0.468163\n",
      "Train Epoch: 5 [20000/60000 (33%)]\tLoss:0.377463\n",
      "Train Epoch: 5 [40000/60000 (67%)]\tLoss:0.361798\n",
      "Train Epoch: 6 [0/60000 (0%)]\tLoss:0.450970\n",
      "Train Epoch: 6 [20000/60000 (33%)]\tLoss:0.277905\n",
      "Train Epoch: 6 [40000/60000 (67%)]\tLoss:0.451050\n",
      "Train Epoch: 7 [0/60000 (0%)]\tLoss:0.355615\n",
      "Train Epoch: 7 [20000/60000 (33%)]\tLoss:0.362469\n",
      "Train Epoch: 7 [40000/60000 (67%)]\tLoss:0.163363\n",
      "Train Epoch: 8 [0/60000 (0%)]\tLoss:0.221540\n",
      "Train Epoch: 8 [20000/60000 (33%)]\tLoss:0.124955\n",
      "Train Epoch: 8 [40000/60000 (67%)]\tLoss:0.160428\n",
      "Train Epoch: 9 [0/60000 (0%)]\tLoss:0.165878\n",
      "Train Epoch: 9 [20000/60000 (33%)]\tLoss:0.140942\n",
      "Train Epoch: 9 [40000/60000 (67%)]\tLoss:0.102176\n",
      "\n",
      "Test set: Average Loss : 0.0008, Accuracy: 9535/10000(95%\n",
      ")\n"
     ]
    }
   ],
   "source": [
    "batch_size=200\n",
    "learning_rate=0.01\n",
    "epochs=10\n",
    "\n",
    "w1,b1 = torch.rand(200,784,requires_grad=True),\\\n",
    "        torch.rand(200,requires_grad=True)\n",
    "w2,b2 = torch.rand(200,200,requires_grad=True),\\\n",
    "        torch.rand(200,requires_grad=True)\n",
    "w3,b3 = torch.rand(10,200,requires_grad=True),\\\n",
    "        torch.rand(10,requires_grad=True)\n",
    "\n",
    "# 初始化\n",
    "torch.nn.init.kaiming_normal_(w1)\n",
    "torch.nn.init.kaiming_normal_(w2)\n",
    "torch.nn.init.kaiming_normal_(w3)\n",
    "\n",
    "def forward(x):\n",
    "    x = x@w1.t() + b1\n",
    "    x = F.relu(x)\n",
    "    x = x@w2.t() + b2\n",
    "    x = F.relu(x)\n",
    "    x = x@w3.t() + b3\n",
    "    x = F.relu(x)\n",
    "    return x\n",
    "\n",
    "optimizer = torch.optim.SGD([w1,b1,w2,b2,w3,b3],lr=learning_rate)\n",
    "criteon = torch.nn.CrossEntropyLoss()\n",
    "\n",
    "for epoch in range(epochs):\n",
    "    \n",
    "    for batch_idx,(data, target) in enumerate(train_loader):\n",
    "        \n",
    "        data = data.view(-1,28*28)\n",
    "        \n",
    "        logits = forward(data)\n",
    "        loss = criteon(logits,target)\n",
    "        \n",
    "        optimizer.zero_grad()\n",
    "        loss.backward()\n",
    "        \n",
    "        optimizer.step()\n",
    "        \n",
    "        if batch_idx % 100 == 0:\n",
    "            print('Train Epoch: {} [{}/{} ({:.0f}%)]\\tLoss:{:.6f}'.format(\n",
    "                epoch,batch_idx*len(data),len(train_loader.dataset),\n",
    "                100. * batch_idx / len(train_loader),loss.item()))\n",
    "test_loss = 0\n",
    "correct = 0\n",
    "for data, target in test_loader:\n",
    "    data = data.view(-1,28*28)\n",
    "    logits = forward(data)\n",
    "    test_loss += criteon(logits,target).item()\n",
    "    #torch.max(a,0) 返回每一列中最大值的那个元素，且返回索引（返回最大元素在这一列的行索引）\n",
    "    #torch.max(a,1) 返回每一行中最大值的那个元素，且返回其索引（返回最大元素在这一行的列索引）\n",
    "    #torch.max()[0]， 只返回最大值的每个数\n",
    "    #troch.max()[1]， 只返回最大值的每个索引\n",
    "    \n",
    "    # argmax() 返回最大值的索引\n",
    "    # pred = logits.argmax(dim=1)\n",
    "    # correct += pred.eq(target).float().sum().item()\n",
    "    \n",
    "    # 返回每一行中最大值的索引\n",
    "    pred = logits.data.max(1)[1]\n",
    "    correct += pred.eq(target.data).sum()\n",
    "    \n",
    "test_loss /= len(test_loader.dataset)\n",
    "print('\\nTest set: Average Loss : {:.4f}, Accuracy: {}/{}({:.0f}%\\n)'.format(\n",
    "    test_loss, correct, len(test_loader.dataset),\n",
    "    100.*correct / len(test_loader.dataset)))"
   ]
  },
  {
   "cell_type": "markdown",
   "metadata": {},
   "source": [
    "## 完整代码"
   ]
  },
  {
   "cell_type": "code",
   "execution_count": 65,
   "metadata": {},
   "outputs": [
    {
     "name": "stdout",
     "output_type": "stream",
     "text": [
      "train: 60000 test: 10000\n",
      "db1: 50000 db2:"
     ]
    },
    {
     "name": "stderr",
     "output_type": "stream",
     "text": [
      "Setting up a new session...\n"
     ]
    },
    {
     "name": "stdout",
     "output_type": "stream",
     "text": [
      " 10000\n",
      "Train Epoch: 0 [0/50000 (0%)]\tLoss:2.295877\n",
      "Train Epoch: 0 [20000/50000 (40%)]\tLoss:2.000010\n",
      "Train Epoch: 0 [40000/50000 (80%)]\tLoss:1.362778\n",
      "\n",
      "VAL set: Average Loss : 0.0050, Accuracy: 7611/10000(76%\n",
      ")\n",
      "Train Epoch: 1 [0/50000 (0%)]\tLoss:0.957616\n",
      "Train Epoch: 1 [20000/50000 (40%)]\tLoss:0.615890\n",
      "Train Epoch: 1 [40000/50000 (80%)]\tLoss:0.493029\n",
      "\n",
      "VAL set: Average Loss : 0.0024, Accuracy: 8734/10000(87%\n",
      ")\n",
      "Train Epoch: 2 [0/50000 (0%)]\tLoss:0.515746\n",
      "Train Epoch: 2 [20000/50000 (40%)]\tLoss:0.407794\n",
      "Train Epoch: 2 [40000/50000 (80%)]\tLoss:0.448579\n",
      "\n",
      "VAL set: Average Loss : 0.0020, Accuracy: 8899/10000(89%\n",
      ")\n",
      "Train Epoch: 3 [0/50000 (0%)]\tLoss:0.350236\n",
      "Train Epoch: 3 [20000/50000 (40%)]\tLoss:0.437432\n",
      "Train Epoch: 3 [40000/50000 (80%)]\tLoss:0.407213\n",
      "\n",
      "VAL set: Average Loss : 0.0017, Accuracy: 9004/10000(90%\n",
      ")\n",
      "Train Epoch: 4 [0/50000 (0%)]\tLoss:0.333286\n",
      "Train Epoch: 4 [20000/50000 (40%)]\tLoss:0.353578\n",
      "Train Epoch: 4 [40000/50000 (80%)]\tLoss:0.377329\n",
      "\n",
      "VAL set: Average Loss : 0.0016, Accuracy: 9059/10000(91%\n",
      ")\n",
      "Train Epoch: 5 [0/50000 (0%)]\tLoss:0.215794\n",
      "Train Epoch: 5 [20000/50000 (40%)]\tLoss:0.350708\n",
      "Train Epoch: 5 [40000/50000 (80%)]\tLoss:0.259393\n",
      "\n",
      "VAL set: Average Loss : 0.0015, Accuracy: 9107/10000(91%\n",
      ")\n",
      "Train Epoch: 6 [0/50000 (0%)]\tLoss:0.230178\n",
      "Train Epoch: 6 [20000/50000 (40%)]\tLoss:0.288761\n",
      "Train Epoch: 6 [40000/50000 (80%)]\tLoss:0.381483\n",
      "\n",
      "VAL set: Average Loss : 0.0015, Accuracy: 9157/10000(92%\n",
      ")\n",
      "Train Epoch: 7 [0/50000 (0%)]\tLoss:0.265693\n",
      "Train Epoch: 7 [20000/50000 (40%)]\tLoss:0.263791\n",
      "Train Epoch: 7 [40000/50000 (80%)]\tLoss:0.398609\n",
      "\n",
      "VAL set: Average Loss : 0.0014, Accuracy: 9206/10000(92%\n",
      ")\n",
      "Train Epoch: 8 [0/50000 (0%)]\tLoss:0.230513\n",
      "Train Epoch: 8 [20000/50000 (40%)]\tLoss:0.233550\n",
      "Train Epoch: 8 [40000/50000 (80%)]\tLoss:0.202184\n",
      "\n",
      "VAL set: Average Loss : 0.0013, Accuracy: 9231/10000(92%\n",
      ")\n",
      "Train Epoch: 9 [0/50000 (0%)]\tLoss:0.233977\n",
      "Train Epoch: 9 [20000/50000 (40%)]\tLoss:0.210254\n",
      "Train Epoch: 9 [40000/50000 (80%)]\tLoss:0.272901\n",
      "\n",
      "VAL set: Average Loss : 0.0013, Accuracy: 9242/10000(92%\n",
      ")\n",
      "\n",
      "Test set: Average Loss : 0.0012, Accuracy: 9335/10000(93%\n",
      ")\n"
     ]
    }
   ],
   "source": [
    "import torch\n",
    "import torch.nn as nn\n",
    "from visdom import Visdom\n",
    "#数据集下载\n",
    "# http://yann.lecun.com/exdb/mnist/\n",
    "from torchvision import datasets\n",
    "import torchvision.transforms as transforms\n",
    "\n",
    "batch_size=200\n",
    "learning_rate=0.01\n",
    "epochs=10\n",
    "global_step=0\n",
    "\n",
    "\n",
    "# 加载数据集\n",
    "# train_loader,val_loader,test_loader\n",
    "train_db = datasets.MNIST('./data',train=True,\n",
    "                  transform=transforms.Compose([\n",
    "                  transforms.ToTensor(),\n",
    "                  transforms.Normalize((0.1307,),(0.3081,))\n",
    "                  ]))\n",
    "train_loader = torch.utils.data.DataLoader(train_db,batch_size=batch_size,shuffle=True)\n",
    "\n",
    "test_db = datasets.MNIST('./data',train=False,transform=transforms.Compose([\n",
    "        transforms.ToTensor(),\n",
    "        transforms.Normalize((0.1307,),(0.3081,))\n",
    "    ]))\n",
    "test_loader = torch.utils.data.DataLoader(test_db,batch_size=batch_size,shuffle=True)\n",
    "\n",
    "print('train:',len(train_db),'test:',len(test_db))\n",
    "train_db,val_db = torch.utils.data.random_split(train_db,[50000,10000])\n",
    "print('db1:',len(train_db),'db2:',len(val_db))\n",
    "train_loader = torch.utils.data.DataLoader(train_db,batch_size=batch_size,shuffle=True)\n",
    "val_loader = torch.utils.data.DataLoader(val_db,batch_size=batch_size,shuffle=True)\n",
    "\n",
    "\n",
    "mean = 0.1307\n",
    "std = 0.3081\n",
    "\n",
    "\n",
    "    \n",
    "    \n",
    "# 网络模型　model\n",
    "class MLP(nn.Module):\n",
    "    \n",
    "    def __init__(self):\n",
    "        super(MLP, self).__init__()\n",
    "        \n",
    "        self.model = nn.Sequential(\n",
    "            nn.Linear(784,200),\n",
    "            nn.LeakyReLU(inplace=True),\n",
    "            nn.Linear(200,200),\n",
    "            nn.LeakyReLU(inplace=True),\n",
    "            nn.Linear(200,10),\n",
    "            nn.LeakyReLU(inplace=True),\n",
    "        )\n",
    "        \n",
    "    def forward(self,x):\n",
    "        # 调用__call__ 中的forward()方法\n",
    "        x = self.model(x)\n",
    "            \n",
    "        return x\n",
    "        \n",
    "# device = torch.device('cuda:0')\n",
    "# net = MLP().to(device)\n",
    "net = MLP()\n",
    "optimizer = torch.optim.SGD(net.parameters(), lr=learning_rate)\n",
    "# criteon = nn.CrossEntropyLoss().to(device)\n",
    "criteon = nn.CrossEntropyLoss()\n",
    "\n",
    "# 可视化\n",
    "viz = Visdom()\n",
    "viz.line([0.], [0.], win='train_loss', opts=dict(title='train loss'))\n",
    "viz.line([[0.0, 0.0]], [0.], win='test', opts=dict(title='test loss&acc.',\n",
    "                                                legend=['loss', 'acc.']))\n",
    "\n",
    "for epoch in range(epochs):\n",
    "    \n",
    "    for batch_idx, (data,target) in enumerate(train_loader):\n",
    "        data = data.view(-1,28*28)\n",
    "#         data, target = data.to(device),target.cudda()\n",
    "        logits = net(data)\n",
    "        loss = criteon(logits, target)\n",
    "        \n",
    "        optimizer.zero_grad()\n",
    "        loss.backward()\n",
    "        optimizer.step()\n",
    "        \n",
    "        # loss可视化\n",
    "        global_step += 1\n",
    "        viz.line([loss.item()],[global_step],win='train_loss',update='append')\n",
    "        \n",
    "        # log输出\n",
    "        # 100次batch训练　batch_size=200\n",
    "        if batch_idx % 100 == 0:\n",
    "            print('Train Epoch: {} [{}/{} ({:.0f}%)]\\tLoss:{:.6f}'.format(\n",
    "                epoch,batch_idx*len(data),len(train_loader.dataset),\n",
    "                100. * batch_idx / len(train_loader),loss.item()))\n",
    "\n",
    "    test_loss = 0\n",
    "    correct = 0\n",
    "    for data, target in val_loader:\n",
    "        data = data.view(-1,28*28)\n",
    "        logits = net(data)\n",
    "        test_loss += criteon(logits,target).item()\n",
    "\n",
    "        pred = logits.data.max(1)[1]\n",
    "        correct += pred.eq(target.data).sum().item()\n",
    "    test_loss /= len(val_loader.dataset)\n",
    "    print('\\nVAL set: Average Loss : {:.4f}, Accuracy: {}/{}({:.0f}%\\n)'.format(\n",
    "        test_loss, correct, len(test_loader.dataset),\n",
    "        100.*correct / len(test_loader.dataset)))\n",
    "    \n",
    "    viz.line([[test_loss, correct / len(test_loader.dataset)]],\n",
    "            [global_step], win='test', update='append')\n",
    "    img_data = data * std + mean\n",
    "    viz.images(img_data.view(-1, 1, 28, 28),nrow=6, win='x',opts={'title':'imgs'})\n",
    "    viz.text(str(pred.detach().numpy()), win='pred',opts=dict(title='pred'))\n",
    "\n",
    "        \n",
    "test_loss = 0\n",
    "correct = 0\n",
    "for data, target in test_loader:\n",
    "    data = data.view(-1,28*28)\n",
    "    logits = net(data)\n",
    "    test_loss += criteon(logits,target).item()\n",
    "\n",
    "    pred = logits.data.max(1)[1]\n",
    "    correct += pred.eq(target.data).sum().item()\n",
    "\n",
    "    \n",
    "test_loss /= len(test_loader.dataset)\n",
    "print('\\nTest set: Average Loss : {:.4f}, Accuracy: {}/{}({:.0f}%\\n)'.format(\n",
    "    test_loss, correct, len(test_loader.dataset),\n",
    "    100.*correct / len(test_loader.dataset)))"
   ]
  },
  {
   "cell_type": "markdown",
   "metadata": {},
   "source": [
    "#### 激活函数"
   ]
  },
  {
   "cell_type": "markdown",
   "metadata": {},
   "source": [
    "sigmoid 0-1 容易出现梯度离散。当x值很大或者很小。\n",
    "\n",
    "Tanh -1-1  RNN常用\n",
    "\n",
    "\n",
    "ReLU R(z)=max(0,z) 梯度为1\n",
    "\n",
    "\n",
    "Leaky ReLU x<0 为斜率很小的线\n",
    "\n",
    "softplus \n",
    "\n"
   ]
  },
  {
   "cell_type": "markdown",
   "metadata": {},
   "source": [
    "#### Visdom可视化"
   ]
  },
  {
   "cell_type": "markdown",
   "metadata": {},
   "source": [
    "安装：\n",
    "\n",
    "        pip install -i https://pypi.tuna.tsinghua.edu.cn/simple visdom\n",
    "        pip uninstall visdom\n",
    "      \n",
    "github安装：\n",
    "        https://github.com/facebookresearch/visdom\n",
    "        >pip install -e .\n",
    "        \n",
    "启动：\n",
    "        \n",
    "        python -m visdom.server\n",
    "        \n",
    "        "
   ]
  },
  {
   "cell_type": "code",
   "execution_count": 35,
   "metadata": {},
   "outputs": [
    {
     "name": "stderr",
     "output_type": "stream",
     "text": [
      "Setting up a new session...\n"
     ]
    },
    {
     "name": "stdout",
     "output_type": "stream",
     "text": [
      "tensor([[0., 0., 0.,  ..., 0., 0., 0.],\n",
      "        [0., 0., 0.,  ..., 0., 0., 0.],\n",
      "        [0., 0., 0.,  ..., 0., 0., 0.],\n",
      "        ...,\n",
      "        [0., 0., 0.,  ..., 0., 0., 0.],\n",
      "        [0., 0., 0.,  ..., 0., 0., 0.],\n",
      "        [0., 0., 0.,  ..., 0., 0., 0.]])\n"
     ]
    },
    {
     "data": {
      "text/plain": [
       "'x'"
      ]
     },
     "execution_count": 35,
     "metadata": {},
     "output_type": "execute_result"
    }
   ],
   "source": [
    "import visdom\n",
    "import torch\n",
    "# 新建一个连接客户端\n",
    "# 指定env = 'test2'，默认是'main',注意在浏览器界面做环境的切换\n",
    "vis = visdom.Visdom(env='test2')\n",
    "# 绘制正弦函数\n",
    "x = torch.arange(1, 100, 0.01)\n",
    "y = torch.sin(x)\n",
    "vis.line(X=x,Y=y, win='sinx',opts={'title':'y=sin(x)'})\n",
    "# # 绘制36张图片随机的彩色图片\n",
    "# vis.images(torch.randn(36,3,64,64).numpy(),nrow=6, win='imgs',opts={'title':'imgs'})\n",
    "test_loader = torch.utils.data.DataLoader(\n",
    "    datasets.MNIST('./data',train=False,transform=transforms.Compose([\n",
    "        transforms.ToTensor()\n",
    "    ])),batch_size=batch_size,shuffle=True)\n",
    "for batch_idx,(data, target) in enumerate(test_loader):\n",
    "    data = data.view(-1,28*28)\n",
    "    if batch_idx>1:\n",
    "        print(data)\n",
    "        break\n",
    "\n",
    "vis.images(data.view(-1, 1, 28, 28), win='x')\n",
    "\n"
   ]
  },
  {
   "cell_type": "code",
   "execution_count": null,
   "metadata": {},
   "outputs": [],
   "source": []
  },
  {
   "cell_type": "markdown",
   "metadata": {},
   "source": []
  }
 ],
 "metadata": {
  "kernelspec": {
   "display_name": "Python 3",
   "language": "python",
   "name": "python3"
  },
  "language_info": {
   "codemirror_mode": {
    "name": "ipython",
    "version": 3
   },
   "file_extension": ".py",
   "mimetype": "text/x-python",
   "name": "python",
   "nbconvert_exporter": "python",
   "pygments_lexer": "ipython3",
   "version": "3.6.8"
  }
 },
 "nbformat": 4,
 "nbformat_minor": 2
}
